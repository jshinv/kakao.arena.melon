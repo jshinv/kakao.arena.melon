{
 "cells": [
  {
   "cell_type": "code",
   "execution_count": 1,
   "metadata": {},
   "outputs": [],
   "source": [
    "import copy\n",
    "import random\n",
    "\n",
    "import numpy as np\n",
    "import pandas as pd\n",
    "import matplotlib as plt\n",
    "import re\n",
    "\n",
    "plt.rcParams['font.family'] = 'AppleGothic'\n",
    "plt.rcParams[\"figure.figsize\"] = (20, 10)\n",
    "\n",
    "\n",
    "# 추가한 라이브러리 ======================== #\n",
    "\n",
    "import sentencepiece as spm\n",
    "from khaiii import KhaiiiApi\n",
    "api = KhaiiiApi()"
   ]
  },
  {
   "cell_type": "markdown",
   "metadata": {},
   "source": [
    "### [입력] 불러올 파일명을 입력해주세요"
   ]
  },
  {
   "cell_type": "code",
   "execution_count": 2,
   "metadata": {},
   "outputs": [],
   "source": [
    "data_path = './data/json/song_meta.json'"
   ]
  },
  {
   "cell_type": "markdown",
   "metadata": {},
   "source": [
    "### 데이터 다시 불러오기"
   ]
  },
  {
   "cell_type": "code",
   "execution_count": 3,
   "metadata": {},
   "outputs": [],
   "source": [
    "# 이 코드를 불러오면 깨끗한 데이터를 다시 가져올 수 있습니다\n",
    "data = pd.read_json(data_path, typ = 'frame')"
   ]
  },
  {
   "cell_type": "code",
   "execution_count": 4,
   "metadata": {},
   "outputs": [
    {
     "name": "stdout",
     "output_type": "stream",
     "text": [
      "<class 'pandas.core.frame.DataFrame'>\n",
      "RangeIndex: 707989 entries, 0 to 707988\n",
      "Data columns (total 9 columns):\n",
      " #   Column                  Non-Null Count   Dtype \n",
      "---  ------                  --------------   ----- \n",
      " 0   song_gn_dtl_gnr_basket  707989 non-null  object\n",
      " 1   issue_date              707989 non-null  int64 \n",
      " 2   album_name              707985 non-null  object\n",
      " 3   album_id                707989 non-null  int64 \n",
      " 4   artist_id_basket        707989 non-null  object\n",
      " 5   song_name               707989 non-null  object\n",
      " 6   song_gn_gnr_basket      707989 non-null  object\n",
      " 7   artist_name_basket      707989 non-null  object\n",
      " 8   id                      707989 non-null  int64 \n",
      "dtypes: int64(3), object(6)\n",
      "memory usage: 48.6+ MB\n"
     ]
    }
   ],
   "source": [
    "df = pd.DataFrame(data)\n",
    "data.info()"
   ]
  },
  {
   "cell_type": "code",
   "execution_count": 5,
   "metadata": {},
   "outputs": [],
   "source": [
    "# 자동으로 csv파일을 생성해 줍니다(엑셀에서 텍스트를 확인해 보세요)\n",
    "data.to_csv('data_test/data_0000.csv')"
   ]
  },
  {
   "cell_type": "markdown",
   "metadata": {},
   "source": [
    "---"
   ]
  },
  {
   "cell_type": "markdown",
   "metadata": {},
   "source": [
    "### [입력] 가져올 컬럼명을 my_column에 입력해 주세요"
   ]
  },
  {
   "cell_type": "code",
   "execution_count": 6,
   "metadata": {},
   "outputs": [],
   "source": [
    "# 가져올 컬럼명을 입력해 주세요\n",
    "# 샘플파일은 텍스트 전처리를 위해 하나씩만 가져옵니다\n",
    "my_column = 'song_name'\n",
    "df = df.loc[:, [my_column]]\n",
    "df = df.rename(columns={my_column: \"col\"})"
   ]
  },
  {
   "cell_type": "code",
   "execution_count": 7,
   "metadata": {},
   "outputs": [
    {
     "data": {
      "text/html": [
       "<div>\n",
       "<style scoped>\n",
       "    .dataframe tbody tr th:only-of-type {\n",
       "        vertical-align: middle;\n",
       "    }\n",
       "\n",
       "    .dataframe tbody tr th {\n",
       "        vertical-align: top;\n",
       "    }\n",
       "\n",
       "    .dataframe thead th {\n",
       "        text-align: right;\n",
       "    }\n",
       "</style>\n",
       "<table border=\"1\" class=\"dataframe\">\n",
       "  <thead>\n",
       "    <tr style=\"text-align: right;\">\n",
       "      <th></th>\n",
       "      <th>col</th>\n",
       "    </tr>\n",
       "  </thead>\n",
       "  <tbody>\n",
       "    <tr>\n",
       "      <th>0</th>\n",
       "      <td>Feelings</td>\n",
       "    </tr>\n",
       "    <tr>\n",
       "      <th>1</th>\n",
       "      <td>Bach : Partita No. 4 In D Major, BWV 828 - II....</td>\n",
       "    </tr>\n",
       "    <tr>\n",
       "      <th>2</th>\n",
       "      <td>Solsbury Hill (Remastered 2002)</td>\n",
       "    </tr>\n",
       "    <tr>\n",
       "      <th>3</th>\n",
       "      <td>Feeling Right (Everything Is Nice) (Feat. Popc...</td>\n",
       "    </tr>\n",
       "    <tr>\n",
       "      <th>4</th>\n",
       "      <td>그남자 그여자</td>\n",
       "    </tr>\n",
       "  </tbody>\n",
       "</table>\n",
       "</div>"
      ],
      "text/plain": [
       "                                                 col\n",
       "0                                           Feelings\n",
       "1  Bach : Partita No. 4 In D Major, BWV 828 - II....\n",
       "2                    Solsbury Hill (Remastered 2002)\n",
       "3  Feeling Right (Everything Is Nice) (Feat. Popc...\n",
       "4                                            그남자 그여자"
      ]
     },
     "execution_count": 7,
     "metadata": {},
     "output_type": "execute_result"
    }
   ],
   "source": [
    "df.head()"
   ]
  },
  {
   "cell_type": "code",
   "execution_count": 11,
   "metadata": {},
   "outputs": [],
   "source": [
    "# 임시로 추출하기 위해 1000개만 가지고 작업, 나중에는 전체 가져오면 됨\n",
    "data = df[:1000]"
   ]
  },
  {
   "cell_type": "code",
   "execution_count": 12,
   "metadata": {},
   "outputs": [
    {
     "name": "stderr",
     "output_type": "stream",
     "text": [
      "/Users/jshin/opt/anaconda3/envs/kakao/lib/python3.7/site-packages/ipykernel_launcher.py:1: SettingWithCopyWarning: \n",
      "A value is trying to be set on a copy of a slice from a DataFrame.\n",
      "Try using .loc[row_indexer,col_indexer] = value instead\n",
      "\n",
      "See the caveats in the documentation: https://pandas.pydata.org/pandas-docs/stable/user_guide/indexing.html#returning-a-view-versus-a-copy\n",
      "  \"\"\"Entry point for launching an IPython kernel.\n"
     ]
    }
   ],
   "source": [
    "data['lan'] = \" \""
   ]
  },
  {
   "cell_type": "code",
   "execution_count": 13,
   "metadata": {},
   "outputs": [
    {
     "data": {
      "text/html": [
       "<div>\n",
       "<style scoped>\n",
       "    .dataframe tbody tr th:only-of-type {\n",
       "        vertical-align: middle;\n",
       "    }\n",
       "\n",
       "    .dataframe tbody tr th {\n",
       "        vertical-align: top;\n",
       "    }\n",
       "\n",
       "    .dataframe thead th {\n",
       "        text-align: right;\n",
       "    }\n",
       "</style>\n",
       "<table border=\"1\" class=\"dataframe\">\n",
       "  <thead>\n",
       "    <tr style=\"text-align: right;\">\n",
       "      <th></th>\n",
       "      <th>col</th>\n",
       "      <th>lan</th>\n",
       "    </tr>\n",
       "  </thead>\n",
       "  <tbody>\n",
       "    <tr>\n",
       "      <th>0</th>\n",
       "      <td>Feelings</td>\n",
       "      <td></td>\n",
       "    </tr>\n",
       "    <tr>\n",
       "      <th>1</th>\n",
       "      <td>Bach : Partita No. 4 In D Major, BWV 828 - II....</td>\n",
       "      <td></td>\n",
       "    </tr>\n",
       "    <tr>\n",
       "      <th>2</th>\n",
       "      <td>Solsbury Hill (Remastered 2002)</td>\n",
       "      <td></td>\n",
       "    </tr>\n",
       "    <tr>\n",
       "      <th>3</th>\n",
       "      <td>Feeling Right (Everything Is Nice) (Feat. Popc...</td>\n",
       "      <td></td>\n",
       "    </tr>\n",
       "    <tr>\n",
       "      <th>4</th>\n",
       "      <td>그남자 그여자</td>\n",
       "      <td></td>\n",
       "    </tr>\n",
       "  </tbody>\n",
       "</table>\n",
       "</div>"
      ],
      "text/plain": [
       "                                                 col lan\n",
       "0                                           Feelings    \n",
       "1  Bach : Partita No. 4 In D Major, BWV 828 - II....    \n",
       "2                    Solsbury Hill (Remastered 2002)    \n",
       "3  Feeling Right (Everything Is Nice) (Feat. Popc...    \n",
       "4                                            그남자 그여자    "
      ]
     },
     "execution_count": 13,
     "metadata": {},
     "output_type": "execute_result"
    }
   ],
   "source": [
    "data.head()"
   ]
  },
  {
   "cell_type": "markdown",
   "metadata": {},
   "source": [
    "# 한글처리 (khaiii)"
   ]
  },
  {
   "cell_type": "markdown",
   "metadata": {},
   "source": [
    "---\n",
    "### [01] 정규화\n",
    "- 한글, 영문 텍스트를 제외하고 삭제(특수문자등)"
   ]
  },
  {
   "cell_type": "code",
   "execution_count": 15,
   "metadata": {},
   "outputs": [],
   "source": [
    "# 판다스를 이용한 정규표현식\n",
    "data['col'] = data['col'].str.replace(\"[^ㄱ-ㅎㅏ-ㅣ가-힣 a-zA-Z ]\",\"\") # 정규 표현식 수행\n",
    "data['col'].replace(' ', np.nan, inplace=True) # 공백은 Null 값으로 변경\n",
    "data = data.dropna(how='any') # Null 값 제거"
   ]
  },
  {
   "cell_type": "code",
   "execution_count": 16,
   "metadata": {},
   "outputs": [
    {
     "data": {
      "text/html": [
       "<div>\n",
       "<style scoped>\n",
       "    .dataframe tbody tr th:only-of-type {\n",
       "        vertical-align: middle;\n",
       "    }\n",
       "\n",
       "    .dataframe tbody tr th {\n",
       "        vertical-align: top;\n",
       "    }\n",
       "\n",
       "    .dataframe thead th {\n",
       "        text-align: right;\n",
       "    }\n",
       "</style>\n",
       "<table border=\"1\" class=\"dataframe\">\n",
       "  <thead>\n",
       "    <tr style=\"text-align: right;\">\n",
       "      <th></th>\n",
       "      <th>col</th>\n",
       "      <th>lan</th>\n",
       "    </tr>\n",
       "  </thead>\n",
       "  <tbody>\n",
       "    <tr>\n",
       "      <th>0</th>\n",
       "      <td>Feelings</td>\n",
       "      <td></td>\n",
       "    </tr>\n",
       "    <tr>\n",
       "      <th>1</th>\n",
       "      <td>Bach  Partita No  In D Major BWV   II Allemande</td>\n",
       "      <td></td>\n",
       "    </tr>\n",
       "    <tr>\n",
       "      <th>2</th>\n",
       "      <td>Solsbury Hill Remastered</td>\n",
       "      <td></td>\n",
       "    </tr>\n",
       "    <tr>\n",
       "      <th>3</th>\n",
       "      <td>Feeling Right Everything Is Nice Feat Popcaan ...</td>\n",
       "      <td></td>\n",
       "    </tr>\n",
       "    <tr>\n",
       "      <th>4</th>\n",
       "      <td>그남자 그여자</td>\n",
       "      <td></td>\n",
       "    </tr>\n",
       "  </tbody>\n",
       "</table>\n",
       "</div>"
      ],
      "text/plain": [
       "                                                 col lan\n",
       "0                                           Feelings    \n",
       "1    Bach  Partita No  In D Major BWV   II Allemande    \n",
       "2                          Solsbury Hill Remastered     \n",
       "3  Feeling Right Everything Is Nice Feat Popcaan ...    \n",
       "4                                            그남자 그여자    "
      ]
     },
     "execution_count": 16,
     "metadata": {},
     "output_type": "execute_result"
    }
   ],
   "source": [
    "data.head()"
   ]
  },
  {
   "cell_type": "code",
   "execution_count": 17,
   "metadata": {},
   "outputs": [],
   "source": [
    "# 한글인것만  True로 표시해라\n",
    "f = lambda row: row.apply(str).str.contains(\"[ㄱ-ㅎㅏ-ㅣ가-힣]\" ,na=False, flags=re.IGNORECASE)\n",
    "data['lan'] = data.apply(f, axis=1)"
   ]
  },
  {
   "cell_type": "code",
   "execution_count": 18,
   "metadata": {},
   "outputs": [
    {
     "data": {
      "text/html": [
       "<div>\n",
       "<style scoped>\n",
       "    .dataframe tbody tr th:only-of-type {\n",
       "        vertical-align: middle;\n",
       "    }\n",
       "\n",
       "    .dataframe tbody tr th {\n",
       "        vertical-align: top;\n",
       "    }\n",
       "\n",
       "    .dataframe thead th {\n",
       "        text-align: right;\n",
       "    }\n",
       "</style>\n",
       "<table border=\"1\" class=\"dataframe\">\n",
       "  <thead>\n",
       "    <tr style=\"text-align: right;\">\n",
       "      <th></th>\n",
       "      <th>col</th>\n",
       "      <th>lan</th>\n",
       "    </tr>\n",
       "  </thead>\n",
       "  <tbody>\n",
       "    <tr>\n",
       "      <th>0</th>\n",
       "      <td>Feelings</td>\n",
       "      <td>en</td>\n",
       "    </tr>\n",
       "    <tr>\n",
       "      <th>1</th>\n",
       "      <td>Bach  Partita No  In D Major BWV   II Allemande</td>\n",
       "      <td>en</td>\n",
       "    </tr>\n",
       "    <tr>\n",
       "      <th>2</th>\n",
       "      <td>Solsbury Hill Remastered</td>\n",
       "      <td>en</td>\n",
       "    </tr>\n",
       "    <tr>\n",
       "      <th>3</th>\n",
       "      <td>Feeling Right Everything Is Nice Feat Popcaan ...</td>\n",
       "      <td>en</td>\n",
       "    </tr>\n",
       "    <tr>\n",
       "      <th>4</th>\n",
       "      <td>그남자 그여자</td>\n",
       "      <td>ko</td>\n",
       "    </tr>\n",
       "  </tbody>\n",
       "</table>\n",
       "</div>"
      ],
      "text/plain": [
       "                                                 col lan\n",
       "0                                           Feelings  en\n",
       "1    Bach  Partita No  In D Major BWV   II Allemande  en\n",
       "2                          Solsbury Hill Remastered   en\n",
       "3  Feeling Right Everything Is Nice Feat Popcaan ...  en\n",
       "4                                            그남자 그여자  ko"
      ]
     },
     "execution_count": 18,
     "metadata": {},
     "output_type": "execute_result"
    }
   ],
   "source": [
    "# 한국어 인지 영어인지 표시하라\n",
    "data['lan'] = data['lan'].apply(lambda x: 'ko' if x == True else 'en')\n",
    "data.head()"
   ]
  },
  {
   "cell_type": "markdown",
   "metadata": {},
   "source": [
    "---\n",
    "### [02] 토큰화(한국어, khaiii)\n",
    "- 문자열에서 단어로 분리시키는 단계"
   ]
  },
  {
   "cell_type": "code",
   "execution_count": 19,
   "metadata": {},
   "outputs": [],
   "source": [
    "tag_list = ['NNG', 'VV', 'VA']\n",
    "def khaiiiFn(sentence):\n",
    "    temp = []\n",
    "    for word in api.analyze(sentence):\n",
    "        for m in word.morphs:\n",
    "            if m.tag in tag_list:\n",
    "                temp.append([m.lex, m.tag])\n",
    "        \n",
    "    return temp"
   ]
  },
  {
   "cell_type": "code",
   "execution_count": null,
   "metadata": {},
   "outputs": [],
   "source": [
    "data.head()"
   ]
  },
  {
   "cell_type": "code",
   "execution_count": 20,
   "metadata": {},
   "outputs": [],
   "source": [
    "data['vocabs'] = ''\n",
    "data['vocabs'][data['lan']=='ko'] = data['col'][data['lan']=='ko'].apply(khaiiiFn)"
   ]
  },
  {
   "cell_type": "code",
   "execution_count": 21,
   "metadata": {},
   "outputs": [
    {
     "data": {
      "text/html": [
       "<div>\n",
       "<style scoped>\n",
       "    .dataframe tbody tr th:only-of-type {\n",
       "        vertical-align: middle;\n",
       "    }\n",
       "\n",
       "    .dataframe tbody tr th {\n",
       "        vertical-align: top;\n",
       "    }\n",
       "\n",
       "    .dataframe thead th {\n",
       "        text-align: right;\n",
       "    }\n",
       "</style>\n",
       "<table border=\"1\" class=\"dataframe\">\n",
       "  <thead>\n",
       "    <tr style=\"text-align: right;\">\n",
       "      <th></th>\n",
       "      <th>col</th>\n",
       "      <th>lan</th>\n",
       "      <th>vocabs</th>\n",
       "    </tr>\n",
       "  </thead>\n",
       "  <tbody>\n",
       "    <tr>\n",
       "      <th>0</th>\n",
       "      <td>Feelings</td>\n",
       "      <td>en</td>\n",
       "      <td></td>\n",
       "    </tr>\n",
       "    <tr>\n",
       "      <th>1</th>\n",
       "      <td>Bach  Partita No  In D Major BWV   II Allemande</td>\n",
       "      <td>en</td>\n",
       "      <td></td>\n",
       "    </tr>\n",
       "    <tr>\n",
       "      <th>2</th>\n",
       "      <td>Solsbury Hill Remastered</td>\n",
       "      <td>en</td>\n",
       "      <td></td>\n",
       "    </tr>\n",
       "    <tr>\n",
       "      <th>3</th>\n",
       "      <td>Feeling Right Everything Is Nice Feat Popcaan ...</td>\n",
       "      <td>en</td>\n",
       "      <td></td>\n",
       "    </tr>\n",
       "    <tr>\n",
       "      <th>4</th>\n",
       "      <td>그남자 그여자</td>\n",
       "      <td>ko</td>\n",
       "      <td>[[남자, NNG], [긋, VV], [여, NNG]]</td>\n",
       "    </tr>\n",
       "    <tr>\n",
       "      <th>...</th>\n",
       "      <td>...</td>\n",
       "      <td>...</td>\n",
       "      <td>...</td>\n",
       "    </tr>\n",
       "    <tr>\n",
       "      <th>995</th>\n",
       "      <td>I Learned To Dance In Mississippi</td>\n",
       "      <td>en</td>\n",
       "      <td></td>\n",
       "    </tr>\n",
       "    <tr>\n",
       "      <th>996</th>\n",
       "      <td>Overtime Feat Sebastian Reynoso  KYLE</td>\n",
       "      <td>en</td>\n",
       "      <td></td>\n",
       "    </tr>\n",
       "    <tr>\n",
       "      <th>997</th>\n",
       "      <td>온 땅의 주인 Who Am I</td>\n",
       "      <td>ko</td>\n",
       "      <td>[[땅, NNG], [주인, NNG]]</td>\n",
       "    </tr>\n",
       "    <tr>\n",
       "      <th>998</th>\n",
       "      <td>Cimarosa Oboe Concerto in C   Allegro giusto</td>\n",
       "      <td>en</td>\n",
       "      <td></td>\n",
       "    </tr>\n",
       "    <tr>\n",
       "      <th>999</th>\n",
       "      <td>Autumn Leaves</td>\n",
       "      <td>en</td>\n",
       "      <td></td>\n",
       "    </tr>\n",
       "  </tbody>\n",
       "</table>\n",
       "<p>1000 rows × 3 columns</p>\n",
       "</div>"
      ],
      "text/plain": [
       "                                                   col lan  \\\n",
       "0                                             Feelings  en   \n",
       "1      Bach  Partita No  In D Major BWV   II Allemande  en   \n",
       "2                            Solsbury Hill Remastered   en   \n",
       "3    Feeling Right Everything Is Nice Feat Popcaan ...  en   \n",
       "4                                              그남자 그여자  ko   \n",
       "..                                                 ...  ..   \n",
       "995                  I Learned To Dance In Mississippi  en   \n",
       "996              Overtime Feat Sebastian Reynoso  KYLE  en   \n",
       "997                                   온 땅의 주인 Who Am I  ko   \n",
       "998       Cimarosa Oboe Concerto in C   Allegro giusto  en   \n",
       "999                                      Autumn Leaves  en   \n",
       "\n",
       "                             vocabs  \n",
       "0                                    \n",
       "1                                    \n",
       "2                                    \n",
       "3                                    \n",
       "4    [[남자, NNG], [긋, VV], [여, NNG]]  \n",
       "..                              ...  \n",
       "995                                  \n",
       "996                                  \n",
       "997           [[땅, NNG], [주인, NNG]]  \n",
       "998                                  \n",
       "999                                  \n",
       "\n",
       "[1000 rows x 3 columns]"
      ]
     },
     "execution_count": 21,
     "metadata": {},
     "output_type": "execute_result"
    }
   ],
   "source": [
    "data"
   ]
  },
  {
   "cell_type": "markdown",
   "metadata": {},
   "source": [
    "---\n",
    "### [03] 불용어 제거 & 어간추출\n",
    "\n",
    "- 전치사, 관사 등 너무 많이 등장하는 단어 등 문장이나 문서의 특징을 표현하는데 불필요한 단어 제거"
   ]
  },
  {
   "cell_type": "code",
   "execution_count": 22,
   "metadata": {},
   "outputs": [],
   "source": [
    "# 개별적으로 제거하고자 하는 텍스트 추가 사용\n",
    "\n",
    "stopwordsKo = ['긋','의','가','이','은','들','는','좀','잘',\n",
    "             '걍','과','도','를','으로','자','에','와','한','하다']\n"
   ]
  },
  {
   "cell_type": "code",
   "execution_count": 23,
   "metadata": {},
   "outputs": [],
   "source": [
    "# morphs에 불용어가 들어가 있으면 제거 하는 함수(한국어)\n",
    "\n",
    "def stopwordsFnKo(text):\n",
    "    word_tokens = text\n",
    "    word_list = []\n",
    "\n",
    "    for i in range(len(word_tokens)):\n",
    "        i_text = word_tokens[i]\n",
    "\n",
    "        if i_text[0] not in stopwordsKo:\n",
    "            word_list.append(i_text)\n",
    "\n",
    "    return word_list\n"
   ]
  },
  {
   "cell_type": "code",
   "execution_count": 24,
   "metadata": {},
   "outputs": [
    {
     "data": {
      "text/plain": [
       "4                                  [[남자, NNG], [여, NNG]]\n",
       "6      [[시, NNG], [슬프, VA], [왈츠, NNG], [작품, NNG], [번호...\n",
       "9                                [[사랑, NNG], [멜로디, NNG]]\n",
       "18     [[숙면, NNG], [휴식, NNG], [좋, VA], [편안, NNG], [빗소...\n",
       "19                                  [[기, VV], [다리, NNG]]\n",
       "                             ...                        \n",
       "985                                [[학도, NNG], [병, NNG]]\n",
       "987      [[모음곡, NNG], [작품번호, NNG], [아침, NNG], [기분, NNG]]\n",
       "991                        [[위, NNG], [받, VV], [날, NNG]]\n",
       "992    [[좋, VA], [말, NNG], [창작, NNG], [동요제, NNG], [대상...\n",
       "997                                [[땅, NNG], [주인, NNG]]\n",
       "Name: vocabs, Length: 313, dtype: object"
      ]
     },
     "execution_count": 24,
     "metadata": {},
     "output_type": "execute_result"
    }
   ],
   "source": [
    "# 한국어인 경우 에만 stopwordsFnKo 함수를 실행한다\n",
    "ko_sentence = data[data['lan'] == 'ko']['vocabs']\n",
    "ko_sentence = ko_sentence.apply(stopwordsFnKo)\n",
    "ko_sentence"
   ]
  },
  {
   "cell_type": "code",
   "execution_count": 25,
   "metadata": {},
   "outputs": [
    {
     "data": {
      "text/html": [
       "<div>\n",
       "<style scoped>\n",
       "    .dataframe tbody tr th:only-of-type {\n",
       "        vertical-align: middle;\n",
       "    }\n",
       "\n",
       "    .dataframe tbody tr th {\n",
       "        vertical-align: top;\n",
       "    }\n",
       "\n",
       "    .dataframe thead th {\n",
       "        text-align: right;\n",
       "    }\n",
       "</style>\n",
       "<table border=\"1\" class=\"dataframe\">\n",
       "  <thead>\n",
       "    <tr style=\"text-align: right;\">\n",
       "      <th></th>\n",
       "      <th>col</th>\n",
       "      <th>lan</th>\n",
       "      <th>vocabs</th>\n",
       "    </tr>\n",
       "  </thead>\n",
       "  <tbody>\n",
       "    <tr>\n",
       "      <th>0</th>\n",
       "      <td>Feelings</td>\n",
       "      <td>en</td>\n",
       "      <td></td>\n",
       "    </tr>\n",
       "    <tr>\n",
       "      <th>1</th>\n",
       "      <td>Bach  Partita No  In D Major BWV   II Allemande</td>\n",
       "      <td>en</td>\n",
       "      <td></td>\n",
       "    </tr>\n",
       "    <tr>\n",
       "      <th>2</th>\n",
       "      <td>Solsbury Hill Remastered</td>\n",
       "      <td>en</td>\n",
       "      <td></td>\n",
       "    </tr>\n",
       "    <tr>\n",
       "      <th>3</th>\n",
       "      <td>Feeling Right Everything Is Nice Feat Popcaan ...</td>\n",
       "      <td>en</td>\n",
       "      <td></td>\n",
       "    </tr>\n",
       "    <tr>\n",
       "      <th>4</th>\n",
       "      <td>그남자 그여자</td>\n",
       "      <td>ko</td>\n",
       "      <td>[[남자, NNG], [긋, VV], [여, NNG]]</td>\n",
       "    </tr>\n",
       "  </tbody>\n",
       "</table>\n",
       "</div>"
      ],
      "text/plain": [
       "                                                 col lan  \\\n",
       "0                                           Feelings  en   \n",
       "1    Bach  Partita No  In D Major BWV   II Allemande  en   \n",
       "2                          Solsbury Hill Remastered   en   \n",
       "3  Feeling Right Everything Is Nice Feat Popcaan ...  en   \n",
       "4                                            그남자 그여자  ko   \n",
       "\n",
       "                           vocabs  \n",
       "0                                  \n",
       "1                                  \n",
       "2                                  \n",
       "3                                  \n",
       "4  [[남자, NNG], [긋, VV], [여, NNG]]  "
      ]
     },
     "execution_count": 25,
     "metadata": {},
     "output_type": "execute_result"
    }
   ],
   "source": [
    "data.head()"
   ]
  },
  {
   "cell_type": "markdown",
   "metadata": {},
   "source": [
    "# 영문처리 (sentencepiece)"
   ]
  },
  {
   "cell_type": "code",
   "execution_count": 26,
   "metadata": {},
   "outputs": [
    {
     "data": {
      "text/html": [
       "<div>\n",
       "<style scoped>\n",
       "    .dataframe tbody tr th:only-of-type {\n",
       "        vertical-align: middle;\n",
       "    }\n",
       "\n",
       "    .dataframe tbody tr th {\n",
       "        vertical-align: top;\n",
       "    }\n",
       "\n",
       "    .dataframe thead th {\n",
       "        text-align: right;\n",
       "    }\n",
       "</style>\n",
       "<table border=\"1\" class=\"dataframe\">\n",
       "  <thead>\n",
       "    <tr style=\"text-align: right;\">\n",
       "      <th></th>\n",
       "      <th>col</th>\n",
       "      <th>lan</th>\n",
       "      <th>vocabs</th>\n",
       "    </tr>\n",
       "  </thead>\n",
       "  <tbody>\n",
       "    <tr>\n",
       "      <th>994</th>\n",
       "      <td>This Life Feat Roxanne Emery</td>\n",
       "      <td>en</td>\n",
       "      <td></td>\n",
       "    </tr>\n",
       "    <tr>\n",
       "      <th>995</th>\n",
       "      <td>I Learned To Dance In Mississippi</td>\n",
       "      <td>en</td>\n",
       "      <td></td>\n",
       "    </tr>\n",
       "    <tr>\n",
       "      <th>996</th>\n",
       "      <td>Overtime Feat Sebastian Reynoso  KYLE</td>\n",
       "      <td>en</td>\n",
       "      <td></td>\n",
       "    </tr>\n",
       "    <tr>\n",
       "      <th>998</th>\n",
       "      <td>Cimarosa Oboe Concerto in C   Allegro giusto</td>\n",
       "      <td>en</td>\n",
       "      <td></td>\n",
       "    </tr>\n",
       "    <tr>\n",
       "      <th>999</th>\n",
       "      <td>Autumn Leaves</td>\n",
       "      <td>en</td>\n",
       "      <td></td>\n",
       "    </tr>\n",
       "  </tbody>\n",
       "</table>\n",
       "</div>"
      ],
      "text/plain": [
       "                                              col lan vocabs\n",
       "994                  This Life Feat Roxanne Emery  en       \n",
       "995             I Learned To Dance In Mississippi  en       \n",
       "996         Overtime Feat Sebastian Reynoso  KYLE  en       \n",
       "998  Cimarosa Oboe Concerto in C   Allegro giusto  en       \n",
       "999                                 Autumn Leaves  en       "
      ]
     },
     "execution_count": 26,
     "metadata": {},
     "output_type": "execute_result"
    }
   ],
   "source": [
    "data[data['lan'] == 'en'].tail()"
   ]
  },
  {
   "cell_type": "code",
   "execution_count": 27,
   "metadata": {},
   "outputs": [
    {
     "name": "stdout",
     "output_type": "stream",
     "text": [
      "['▁this', '▁is', '▁a', '▁t', 'est']\n",
      "[39, 35, 9, 258, 406]\n",
      "▁This is a test\n",
      "now you a countrybe\n"
     ]
    }
   ],
   "source": [
    "# ./data/botchan.txt 를 사용하여 벡터화 하는것을 확인한다\n",
    "\n",
    "spm.SentencePieceTrainer.train('--input=./data/pre_text/botchan.txt --model_prefix=m --vocab_size=2000 --normalization_rule_name=nfkc_cf')\n",
    "# makes segmenter instance and loads the model file (m.model)\n",
    "sp = spm.SentencePieceProcessor()\n",
    "sp.load('m.model')\n",
    "\n",
    "# encode: text => id\n",
    "print(sp.encode_as_pieces('This is a test'))\n",
    "print(sp.encode_as_ids('This is a test'))\n",
    "\n",
    "# decode: id => text\n",
    "print(sp.decode_pieces(['▁This', '▁is', '▁a', '▁t', 'est']))\n",
    "print(sp.decode_ids([209, 31, 9, 375, 586]))"
   ]
  },
  {
   "cell_type": "code",
   "execution_count": 29,
   "metadata": {},
   "outputs": [
    {
     "name": "stdout",
     "output_type": "stream",
     "text": [
      "['▁b', 'a', 'ch', '▁part', 'it', 'a', '▁no', '▁in', '▁d', '▁ma', 'j', 'or', '▁b', 'w', 'v', '▁i', 'i', '▁all', 'em', 'and', 'e']\n",
      "[180, 50, 184, 272, 178, 50, 64, 12, 383, 608, 336, 122, 180, 165, 164, 6, 36, 57, 682, 222, 38]\n",
      "bach partita no in d major bwv ii allemande\n"
     ]
    }
   ],
   "source": [
    "# 참고용\n",
    "# 토큰화\n",
    "en_encode_piece = sp.encode_as_pieces(data['col'].loc[1])\n",
    "print(en_encode_piece)\n",
    "\n",
    "# 숫자로 변환\n",
    "en_encode = sp.encode_as_ids(data['col'].loc[1])\n",
    "print(en_encode)\n",
    "\n",
    "# 숫자를 영어로 변환\n",
    "en_decode = sp.decode_ids(en_encode)\n",
    "print(en_decode)"
   ]
  },
  {
   "cell_type": "code",
   "execution_count": 31,
   "metadata": {},
   "outputs": [],
   "source": [
    "# 영어 불용어를 추가한다\n",
    "stopwordsEn = ['II']"
   ]
  },
  {
   "cell_type": "code",
   "execution_count": 32,
   "metadata": {},
   "outputs": [],
   "source": [
    "# 영어 문장을 토큰화 하는 함수로 만들어 준다\n",
    "# if i_text not in stopwordsEn 을 통해 영어 불용어를 제거한다\n",
    "\n",
    "def sentencePieceFn(text):\n",
    "\n",
    "    word_tokens = text\n",
    "    en_list = []\n",
    "\n",
    "    word_tokens = word_tokens.split(' ')\n",
    "\n",
    "    for i in range(len(word_tokens)):\n",
    "        i_text = word_tokens[i]\n",
    "        \n",
    "        if i_text not in stopwordsEn:\n",
    "            en_list.append(i_text)\n",
    "        \n",
    "    en_list = ' '.join(en_list).split()\n",
    "    return en_list"
   ]
  },
  {
   "cell_type": "code",
   "execution_count": 33,
   "metadata": {},
   "outputs": [],
   "source": [
    "data['vocabs'][data['lan']=='en'] = data['col'][data['lan']=='en'].apply(sentencePieceFn)"
   ]
  },
  {
   "cell_type": "code",
   "execution_count": 34,
   "metadata": {},
   "outputs": [
    {
     "data": {
      "text/plain": [
       "['Bach', 'Partita', 'No', 'In', 'D', 'Major', 'BWV', 'Allemande']"
      ]
     },
     "execution_count": 34,
     "metadata": {},
     "output_type": "execute_result"
    }
   ],
   "source": [
    "data.loc[1]['vocabs']"
   ]
  },
  {
   "cell_type": "code",
   "execution_count": 35,
   "metadata": {},
   "outputs": [
    {
     "data": {
      "text/html": [
       "<div>\n",
       "<style scoped>\n",
       "    .dataframe tbody tr th:only-of-type {\n",
       "        vertical-align: middle;\n",
       "    }\n",
       "\n",
       "    .dataframe tbody tr th {\n",
       "        vertical-align: top;\n",
       "    }\n",
       "\n",
       "    .dataframe thead th {\n",
       "        text-align: right;\n",
       "    }\n",
       "</style>\n",
       "<table border=\"1\" class=\"dataframe\">\n",
       "  <thead>\n",
       "    <tr style=\"text-align: right;\">\n",
       "      <th></th>\n",
       "      <th>col</th>\n",
       "      <th>lan</th>\n",
       "      <th>vocabs</th>\n",
       "    </tr>\n",
       "  </thead>\n",
       "  <tbody>\n",
       "    <tr>\n",
       "      <th>0</th>\n",
       "      <td>Feelings</td>\n",
       "      <td>en</td>\n",
       "      <td>[Feelings]</td>\n",
       "    </tr>\n",
       "    <tr>\n",
       "      <th>1</th>\n",
       "      <td>Bach  Partita No  In D Major BWV   II Allemande</td>\n",
       "      <td>en</td>\n",
       "      <td>[Bach, Partita, No, In, D, Major, BWV, Allemande]</td>\n",
       "    </tr>\n",
       "    <tr>\n",
       "      <th>2</th>\n",
       "      <td>Solsbury Hill Remastered</td>\n",
       "      <td>en</td>\n",
       "      <td>[Solsbury, Hill, Remastered]</td>\n",
       "    </tr>\n",
       "    <tr>\n",
       "      <th>3</th>\n",
       "      <td>Feeling Right Everything Is Nice Feat Popcaan ...</td>\n",
       "      <td>en</td>\n",
       "      <td>[Feeling, Right, Everything, Is, Nice, Feat, P...</td>\n",
       "    </tr>\n",
       "    <tr>\n",
       "      <th>4</th>\n",
       "      <td>그남자 그여자</td>\n",
       "      <td>ko</td>\n",
       "      <td>[[남자, NNG], [긋, VV], [여, NNG]]</td>\n",
       "    </tr>\n",
       "  </tbody>\n",
       "</table>\n",
       "</div>"
      ],
      "text/plain": [
       "                                                 col lan  \\\n",
       "0                                           Feelings  en   \n",
       "1    Bach  Partita No  In D Major BWV   II Allemande  en   \n",
       "2                          Solsbury Hill Remastered   en   \n",
       "3  Feeling Right Everything Is Nice Feat Popcaan ...  en   \n",
       "4                                            그남자 그여자  ko   \n",
       "\n",
       "                                              vocabs  \n",
       "0                                         [Feelings]  \n",
       "1  [Bach, Partita, No, In, D, Major, BWV, Allemande]  \n",
       "2                       [Solsbury, Hill, Remastered]  \n",
       "3  [Feeling, Right, Everything, Is, Nice, Feat, P...  \n",
       "4                     [[남자, NNG], [긋, VV], [여, NNG]]  "
      ]
     },
     "execution_count": 35,
     "metadata": {},
     "output_type": "execute_result"
    }
   ],
   "source": [
    "data.head()"
   ]
  },
  {
   "cell_type": "markdown",
   "metadata": {},
   "source": [
    "### word2vec 을 이용한 한국어 벡터화"
   ]
  },
  {
   "cell_type": "code",
   "execution_count": 36,
   "metadata": {},
   "outputs": [],
   "source": [
    "data_vector = data"
   ]
  },
  {
   "cell_type": "code",
   "execution_count": 37,
   "metadata": {},
   "outputs": [
    {
     "data": {
      "text/plain": [
       "Int64Index([  4,   6,   9,  18,  19,  20,  25,  29,  32,  35,\n",
       "            ...\n",
       "            958, 968, 975, 977, 981, 985, 987, 991, 992, 997],\n",
       "           dtype='int64', length=313)"
      ]
     },
     "execution_count": 37,
     "metadata": {},
     "output_type": "execute_result"
    }
   ],
   "source": [
    "# 데이터 프레임의 로우를 돌면서 한국어인 경우의 값을 가져온다\n",
    "ko_index = data_vector['col'][data_vector['lan']=='ko'].index\n",
    "ko_index"
   ]
  },
  {
   "cell_type": "code",
   "execution_count": 38,
   "metadata": {},
   "outputs": [],
   "source": [
    "# vocabs 한국어 데이터를 하나의 리스트로 변환한다\n",
    "\n",
    "def vocabsOneLineFn(text):\n",
    "    test_data = text\n",
    "    vocabs_one_line = []\n",
    "    \n",
    "    lengh = len(text)\n",
    "    \n",
    "    for i in range(lengh):\n",
    "        vocabs_one_line.append(test_data[i][0])\n",
    "        # 형태소도 사용하고 싶을때는 아래의 주석을 풀어 사용한다\n",
    "        # vocabs_one_line.append(test_data[i][1])\n",
    "    \n",
    "    return vocabs_one_line\n"
   ]
  },
  {
   "cell_type": "code",
   "execution_count": 39,
   "metadata": {},
   "outputs": [],
   "source": [
    "data_vector['vocabs'][data_vector['lan']=='ko'] = data_vector['vocabs'][data_vector['lan']=='ko'].apply(vocabsOneLineFn)\n"
   ]
  },
  {
   "cell_type": "code",
   "execution_count": 40,
   "metadata": {},
   "outputs": [
    {
     "data": {
      "text/html": [
       "<div>\n",
       "<style scoped>\n",
       "    .dataframe tbody tr th:only-of-type {\n",
       "        vertical-align: middle;\n",
       "    }\n",
       "\n",
       "    .dataframe tbody tr th {\n",
       "        vertical-align: top;\n",
       "    }\n",
       "\n",
       "    .dataframe thead th {\n",
       "        text-align: right;\n",
       "    }\n",
       "</style>\n",
       "<table border=\"1\" class=\"dataframe\">\n",
       "  <thead>\n",
       "    <tr style=\"text-align: right;\">\n",
       "      <th></th>\n",
       "      <th>col</th>\n",
       "      <th>lan</th>\n",
       "      <th>vocabs</th>\n",
       "    </tr>\n",
       "  </thead>\n",
       "  <tbody>\n",
       "    <tr>\n",
       "      <th>0</th>\n",
       "      <td>Feelings</td>\n",
       "      <td>en</td>\n",
       "      <td>[Feelings]</td>\n",
       "    </tr>\n",
       "    <tr>\n",
       "      <th>1</th>\n",
       "      <td>Bach  Partita No  In D Major BWV   II Allemande</td>\n",
       "      <td>en</td>\n",
       "      <td>[Bach, Partita, No, In, D, Major, BWV, Allemande]</td>\n",
       "    </tr>\n",
       "    <tr>\n",
       "      <th>2</th>\n",
       "      <td>Solsbury Hill Remastered</td>\n",
       "      <td>en</td>\n",
       "      <td>[Solsbury, Hill, Remastered]</td>\n",
       "    </tr>\n",
       "    <tr>\n",
       "      <th>3</th>\n",
       "      <td>Feeling Right Everything Is Nice Feat Popcaan ...</td>\n",
       "      <td>en</td>\n",
       "      <td>[Feeling, Right, Everything, Is, Nice, Feat, P...</td>\n",
       "    </tr>\n",
       "    <tr>\n",
       "      <th>4</th>\n",
       "      <td>그남자 그여자</td>\n",
       "      <td>ko</td>\n",
       "      <td>[남자, 긋, 여]</td>\n",
       "    </tr>\n",
       "  </tbody>\n",
       "</table>\n",
       "</div>"
      ],
      "text/plain": [
       "                                                 col lan  \\\n",
       "0                                           Feelings  en   \n",
       "1    Bach  Partita No  In D Major BWV   II Allemande  en   \n",
       "2                          Solsbury Hill Remastered   en   \n",
       "3  Feeling Right Everything Is Nice Feat Popcaan ...  en   \n",
       "4                                            그남자 그여자  ko   \n",
       "\n",
       "                                              vocabs  \n",
       "0                                         [Feelings]  \n",
       "1  [Bach, Partita, No, In, D, Major, BWV, Allemande]  \n",
       "2                       [Solsbury, Hill, Remastered]  \n",
       "3  [Feeling, Right, Everything, Is, Nice, Feat, P...  \n",
       "4                                         [남자, 긋, 여]  "
      ]
     },
     "execution_count": 40,
     "metadata": {},
     "output_type": "execute_result"
    }
   ],
   "source": [
    "data_vector.head()"
   ]
  },
  {
   "cell_type": "code",
   "execution_count": 41,
   "metadata": {},
   "outputs": [],
   "source": [
    "data_vector['encode'] = 0\n",
    "data_vector.to_csv('data_vector.csv', index=0)"
   ]
  },
  {
   "cell_type": "code",
   "execution_count": 42,
   "metadata": {},
   "outputs": [
    {
     "data": {
      "text/html": [
       "<div>\n",
       "<style scoped>\n",
       "    .dataframe tbody tr th:only-of-type {\n",
       "        vertical-align: middle;\n",
       "    }\n",
       "\n",
       "    .dataframe tbody tr th {\n",
       "        vertical-align: top;\n",
       "    }\n",
       "\n",
       "    .dataframe thead th {\n",
       "        text-align: right;\n",
       "    }\n",
       "</style>\n",
       "<table border=\"1\" class=\"dataframe\">\n",
       "  <thead>\n",
       "    <tr style=\"text-align: right;\">\n",
       "      <th></th>\n",
       "      <th>col</th>\n",
       "      <th>lan</th>\n",
       "      <th>vocabs</th>\n",
       "      <th>encode</th>\n",
       "    </tr>\n",
       "  </thead>\n",
       "  <tbody>\n",
       "    <tr>\n",
       "      <th>0</th>\n",
       "      <td>Feelings</td>\n",
       "      <td>en</td>\n",
       "      <td>[Feelings]</td>\n",
       "      <td>0</td>\n",
       "    </tr>\n",
       "    <tr>\n",
       "      <th>1</th>\n",
       "      <td>Bach  Partita No  In D Major BWV   II Allemande</td>\n",
       "      <td>en</td>\n",
       "      <td>[Bach, Partita, No, In, D, Major, BWV, Allemande]</td>\n",
       "      <td>0</td>\n",
       "    </tr>\n",
       "    <tr>\n",
       "      <th>2</th>\n",
       "      <td>Solsbury Hill Remastered</td>\n",
       "      <td>en</td>\n",
       "      <td>[Solsbury, Hill, Remastered]</td>\n",
       "      <td>0</td>\n",
       "    </tr>\n",
       "    <tr>\n",
       "      <th>3</th>\n",
       "      <td>Feeling Right Everything Is Nice Feat Popcaan ...</td>\n",
       "      <td>en</td>\n",
       "      <td>[Feeling, Right, Everything, Is, Nice, Feat, P...</td>\n",
       "      <td>0</td>\n",
       "    </tr>\n",
       "    <tr>\n",
       "      <th>4</th>\n",
       "      <td>그남자 그여자</td>\n",
       "      <td>ko</td>\n",
       "      <td>[남자, 긋, 여]</td>\n",
       "      <td>0</td>\n",
       "    </tr>\n",
       "  </tbody>\n",
       "</table>\n",
       "</div>"
      ],
      "text/plain": [
       "                                                 col lan  \\\n",
       "0                                           Feelings  en   \n",
       "1    Bach  Partita No  In D Major BWV   II Allemande  en   \n",
       "2                          Solsbury Hill Remastered   en   \n",
       "3  Feeling Right Everything Is Nice Feat Popcaan ...  en   \n",
       "4                                            그남자 그여자  ko   \n",
       "\n",
       "                                              vocabs  encode  \n",
       "0                                         [Feelings]       0  \n",
       "1  [Bach, Partita, No, In, D, Major, BWV, Allemande]       0  \n",
       "2                       [Solsbury, Hill, Remastered]       0  \n",
       "3  [Feeling, Right, Everything, Is, Nice, Feat, P...       0  \n",
       "4                                         [남자, 긋, 여]       0  "
      ]
     },
     "execution_count": 42,
     "metadata": {},
     "output_type": "execute_result"
    }
   ],
   "source": [
    "data_vector.head()"
   ]
  },
  {
   "cell_type": "code",
   "execution_count": 43,
   "metadata": {},
   "outputs": [],
   "source": [
    "def vocabsToEncodeFn(text):\n",
    "    \n",
    "    test_data = text\n",
    "    en_encode_list = []\n",
    "    \n",
    "    lengh = len(text)\n",
    "    \n",
    "    for i in range(lengh):\n",
    "        en_encode = sp.encode_as_ids(text[i])\n",
    "        en_encode_list.append(en_encode)\n",
    "\n",
    "    return en_encode_list"
   ]
  },
  {
   "cell_type": "code",
   "execution_count": 44,
   "metadata": {},
   "outputs": [],
   "source": [
    "data_vector['encode'] = data_vector['vocabs'].apply(vocabsToEncodeFn)\n"
   ]
  },
  {
   "cell_type": "code",
   "execution_count": 45,
   "metadata": {},
   "outputs": [
    {
     "data": {
      "text/html": [
       "<div>\n",
       "<style scoped>\n",
       "    .dataframe tbody tr th:only-of-type {\n",
       "        vertical-align: middle;\n",
       "    }\n",
       "\n",
       "    .dataframe tbody tr th {\n",
       "        vertical-align: top;\n",
       "    }\n",
       "\n",
       "    .dataframe thead th {\n",
       "        text-align: right;\n",
       "    }\n",
       "</style>\n",
       "<table border=\"1\" class=\"dataframe\">\n",
       "  <thead>\n",
       "    <tr style=\"text-align: right;\">\n",
       "      <th></th>\n",
       "      <th>col</th>\n",
       "      <th>lan</th>\n",
       "      <th>vocabs</th>\n",
       "      <th>encode</th>\n",
       "    </tr>\n",
       "  </thead>\n",
       "  <tbody>\n",
       "    <tr>\n",
       "      <th>0</th>\n",
       "      <td>Feelings</td>\n",
       "      <td>en</td>\n",
       "      <td>[Feelings]</td>\n",
       "      <td>[[522, 13, 8]]</td>\n",
       "    </tr>\n",
       "    <tr>\n",
       "      <th>1</th>\n",
       "      <td>Bach  Partita No  In D Major BWV   II Allemande</td>\n",
       "      <td>en</td>\n",
       "      <td>[Bach, Partita, No, In, D, Major, BWV, Allemande]</td>\n",
       "      <td>[[180, 50, 184], [272, 178, 50], [64], [12], [...</td>\n",
       "    </tr>\n",
       "    <tr>\n",
       "      <th>2</th>\n",
       "      <td>Solsbury Hill Remastered</td>\n",
       "      <td>en</td>\n",
       "      <td>[Solsbury, Hill, Remastered]</td>\n",
       "      <td>[[46, 70, 8, 96, 215, 51], [397, 121], [151, 9...</td>\n",
       "    </tr>\n",
       "    <tr>\n",
       "      <th>3</th>\n",
       "      <td>Feeling Right Everything Is Nice Feat Popcaan ...</td>\n",
       "      <td>en</td>\n",
       "      <td>[Feeling, Right, Everything, Is, Nice, Feat, P...</td>\n",
       "      <td>[[522, 13], [131], [598], [35], [1723], [792, ...</td>\n",
       "    </tr>\n",
       "    <tr>\n",
       "      <th>4</th>\n",
       "      <td>그남자 그여자</td>\n",
       "      <td>ko</td>\n",
       "      <td>[남자, 긋, 여]</td>\n",
       "      <td>[[16, 0], [16, 0], [16, 0]]</td>\n",
       "    </tr>\n",
       "    <tr>\n",
       "      <th>...</th>\n",
       "      <td>...</td>\n",
       "      <td>...</td>\n",
       "      <td>...</td>\n",
       "      <td>...</td>\n",
       "    </tr>\n",
       "    <tr>\n",
       "      <th>995</th>\n",
       "      <td>I Learned To Dance In Mississippi</td>\n",
       "      <td>en</td>\n",
       "      <td>[I, Learned, To, Dance, In, Mississippi]</td>\n",
       "      <td>[[6], [1498, 14], [7], [517], [12], [925, 210,...</td>\n",
       "    </tr>\n",
       "    <tr>\n",
       "      <th>996</th>\n",
       "      <td>Overtime Feat Sebastian Reynoso  KYLE</td>\n",
       "      <td>en</td>\n",
       "      <td>[Overtime, Feat, Sebastian, Reynoso, KYLE]</td>\n",
       "      <td>[[179, 1097], [792, 149], [110, 38, 96, 50, 14...</td>\n",
       "    </tr>\n",
       "    <tr>\n",
       "      <th>997</th>\n",
       "      <td>온 땅의 주인 Who Am I</td>\n",
       "      <td>ko</td>\n",
       "      <td>[땅, 주인]</td>\n",
       "      <td>[[16, 0], [16, 0]]</td>\n",
       "    </tr>\n",
       "    <tr>\n",
       "      <th>998</th>\n",
       "      <td>Cimarosa Oboe Concerto in C   Allegro giusto</td>\n",
       "      <td>en</td>\n",
       "      <td>[Cimarosa, Oboe, Concerto, in, C, Allegro, giu...</td>\n",
       "      <td>[[156, 646, 115, 65, 8, 50], [387, 96, 65, 38]...</td>\n",
       "    </tr>\n",
       "    <tr>\n",
       "      <th>999</th>\n",
       "      <td>Autumn Leaves</td>\n",
       "      <td>en</td>\n",
       "      <td>[Autumn, Leaves]</td>\n",
       "      <td>[[1616], [378, 8]]</td>\n",
       "    </tr>\n",
       "  </tbody>\n",
       "</table>\n",
       "<p>1000 rows × 4 columns</p>\n",
       "</div>"
      ],
      "text/plain": [
       "                                                   col lan  \\\n",
       "0                                             Feelings  en   \n",
       "1      Bach  Partita No  In D Major BWV   II Allemande  en   \n",
       "2                            Solsbury Hill Remastered   en   \n",
       "3    Feeling Right Everything Is Nice Feat Popcaan ...  en   \n",
       "4                                              그남자 그여자  ko   \n",
       "..                                                 ...  ..   \n",
       "995                  I Learned To Dance In Mississippi  en   \n",
       "996              Overtime Feat Sebastian Reynoso  KYLE  en   \n",
       "997                                   온 땅의 주인 Who Am I  ko   \n",
       "998       Cimarosa Oboe Concerto in C   Allegro giusto  en   \n",
       "999                                      Autumn Leaves  en   \n",
       "\n",
       "                                                vocabs  \\\n",
       "0                                           [Feelings]   \n",
       "1    [Bach, Partita, No, In, D, Major, BWV, Allemande]   \n",
       "2                         [Solsbury, Hill, Remastered]   \n",
       "3    [Feeling, Right, Everything, Is, Nice, Feat, P...   \n",
       "4                                           [남자, 긋, 여]   \n",
       "..                                                 ...   \n",
       "995           [I, Learned, To, Dance, In, Mississippi]   \n",
       "996         [Overtime, Feat, Sebastian, Reynoso, KYLE]   \n",
       "997                                            [땅, 주인]   \n",
       "998  [Cimarosa, Oboe, Concerto, in, C, Allegro, giu...   \n",
       "999                                   [Autumn, Leaves]   \n",
       "\n",
       "                                                encode  \n",
       "0                                       [[522, 13, 8]]  \n",
       "1    [[180, 50, 184], [272, 178, 50], [64], [12], [...  \n",
       "2    [[46, 70, 8, 96, 215, 51], [397, 121], [151, 9...  \n",
       "3    [[522, 13], [131], [598], [35], [1723], [792, ...  \n",
       "4                          [[16, 0], [16, 0], [16, 0]]  \n",
       "..                                                 ...  \n",
       "995  [[6], [1498, 14], [7], [517], [12], [925, 210,...  \n",
       "996  [[179, 1097], [792, 149], [110, 38, 96, 50, 14...  \n",
       "997                                 [[16, 0], [16, 0]]  \n",
       "998  [[156, 646, 115, 65, 8, 50], [387, 96, 65, 38]...  \n",
       "999                                 [[1616], [378, 8]]  \n",
       "\n",
       "[1000 rows x 4 columns]"
      ]
     },
     "execution_count": 45,
     "metadata": {},
     "output_type": "execute_result"
    }
   ],
   "source": [
    "data_vector"
   ]
  },
  {
   "cell_type": "code",
   "execution_count": null,
   "metadata": {},
   "outputs": [],
   "source": []
  },
  {
   "cell_type": "code",
   "execution_count": null,
   "metadata": {},
   "outputs": [],
   "source": []
  },
  {
   "cell_type": "code",
   "execution_count": null,
   "metadata": {},
   "outputs": [],
   "source": []
  },
  {
   "cell_type": "code",
   "execution_count": null,
   "metadata": {},
   "outputs": [],
   "source": []
  },
  {
   "cell_type": "code",
   "execution_count": null,
   "metadata": {},
   "outputs": [],
   "source": []
  }
 ],
 "metadata": {
  "kernelspec": {
   "display_name": "Python 3",
   "language": "python",
   "name": "python3"
  },
  "language_info": {
   "codemirror_mode": {
    "name": "ipython",
    "version": 3
   },
   "file_extension": ".py",
   "mimetype": "text/x-python",
   "name": "python",
   "nbconvert_exporter": "python",
   "pygments_lexer": "ipython3",
   "version": "3.7.7"
  }
 },
 "nbformat": 4,
 "nbformat_minor": 4
}
